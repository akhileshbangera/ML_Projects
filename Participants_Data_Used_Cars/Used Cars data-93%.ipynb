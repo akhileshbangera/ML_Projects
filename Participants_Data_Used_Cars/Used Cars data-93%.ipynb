{
 "cells": [
  {
   "cell_type": "code",
   "execution_count": 1,
   "metadata": {
    "_cell_guid": "b1076dfc-b9ad-4769-8c92-a6c4dae69d19",
    "_uuid": "8f2839f25d086af736a60e9eeb907d3b93b6e0e5"
   },
   "outputs": [
    {
     "name": "stdout",
     "output_type": "stream",
     "text": [
      "['.DS_Store', 'Data_Test.xlsx', 'Data_Train.xlsx', 'Sample_submission.xlsx']\n"
     ]
    }
   ],
   "source": [
    "import numpy as np # linear algebra\n",
    "import pandas as pd # data processing, CSV file I/O (e.g. pd.read_csv)\n",
    "\n",
    "\n",
    "import os\n",
    "print(os.listdir(\"C:/Users/akhil/Music/MH/Participants_Data_Used_Cars/data\"))\n",
    "\n",
    "data_path = \"C:/Users/akhil/Music/MH/Participants_Data_Used_Cars/data\""
   ]
  },
  {
   "cell_type": "markdown",
   "metadata": {},
   "source": [
    "#  Load the traing data from the `Data_Train.xlsx` excel file"
   ]
  },
  {
   "cell_type": "code",
   "execution_count": 2,
   "metadata": {
    "_cell_guid": "79c7e3d0-c299-4dcb-8224-4455121ee9b0",
    "_uuid": "d629ff2d2480ee46fbb7e2d37f6b5fab8052498a"
   },
   "outputs": [
    {
     "name": "stdout",
     "output_type": "stream",
     "text": [
      "****************Train Data: (6019, 13)\n",
      "Name                    0\n",
      "Location                0\n",
      "Year                    0\n",
      "Kilometers_Driven       0\n",
      "Fuel_Type               0\n",
      "Transmission            0\n",
      "Owner_Type              0\n",
      "Mileage                 2\n",
      "Engine                 36\n",
      "Power                  36\n",
      "Seats                  42\n",
      "New_Price            5195\n",
      "Price                   0\n",
      "dtype: int64\n"
     ]
    },
    {
     "data": {
      "text/html": [
       "<div>\n",
       "<style scoped>\n",
       "    .dataframe tbody tr th:only-of-type {\n",
       "        vertical-align: middle;\n",
       "    }\n",
       "\n",
       "    .dataframe tbody tr th {\n",
       "        vertical-align: top;\n",
       "    }\n",
       "\n",
       "    .dataframe thead th {\n",
       "        text-align: right;\n",
       "    }\n",
       "</style>\n",
       "<table border=\"1\" class=\"dataframe\">\n",
       "  <thead>\n",
       "    <tr style=\"text-align: right;\">\n",
       "      <th></th>\n",
       "      <th>Name</th>\n",
       "      <th>Location</th>\n",
       "      <th>Year</th>\n",
       "      <th>Kilometers_Driven</th>\n",
       "      <th>Fuel_Type</th>\n",
       "      <th>Transmission</th>\n",
       "      <th>Owner_Type</th>\n",
       "      <th>Mileage</th>\n",
       "      <th>Engine</th>\n",
       "      <th>Power</th>\n",
       "      <th>Seats</th>\n",
       "      <th>New_Price</th>\n",
       "      <th>Price</th>\n",
       "    </tr>\n",
       "  </thead>\n",
       "  <tbody>\n",
       "    <tr>\n",
       "      <th>0</th>\n",
       "      <td>Maruti Wagon R LXI CNG</td>\n",
       "      <td>Mumbai</td>\n",
       "      <td>2010</td>\n",
       "      <td>72000</td>\n",
       "      <td>CNG</td>\n",
       "      <td>Manual</td>\n",
       "      <td>First</td>\n",
       "      <td>26.6 km/kg</td>\n",
       "      <td>998 CC</td>\n",
       "      <td>58.16 bhp</td>\n",
       "      <td>5.0</td>\n",
       "      <td>NaN</td>\n",
       "      <td>1.75</td>\n",
       "    </tr>\n",
       "    <tr>\n",
       "      <th>1</th>\n",
       "      <td>Hyundai Creta 1.6 CRDi SX Option</td>\n",
       "      <td>Pune</td>\n",
       "      <td>2015</td>\n",
       "      <td>41000</td>\n",
       "      <td>Diesel</td>\n",
       "      <td>Manual</td>\n",
       "      <td>First</td>\n",
       "      <td>19.67 kmpl</td>\n",
       "      <td>1582 CC</td>\n",
       "      <td>126.2 bhp</td>\n",
       "      <td>5.0</td>\n",
       "      <td>NaN</td>\n",
       "      <td>12.50</td>\n",
       "    </tr>\n",
       "    <tr>\n",
       "      <th>2</th>\n",
       "      <td>Honda Jazz V</td>\n",
       "      <td>Chennai</td>\n",
       "      <td>2011</td>\n",
       "      <td>46000</td>\n",
       "      <td>Petrol</td>\n",
       "      <td>Manual</td>\n",
       "      <td>First</td>\n",
       "      <td>18.2 kmpl</td>\n",
       "      <td>1199 CC</td>\n",
       "      <td>88.7 bhp</td>\n",
       "      <td>5.0</td>\n",
       "      <td>8.61 Lakh</td>\n",
       "      <td>4.50</td>\n",
       "    </tr>\n",
       "    <tr>\n",
       "      <th>3</th>\n",
       "      <td>Maruti Ertiga VDI</td>\n",
       "      <td>Chennai</td>\n",
       "      <td>2012</td>\n",
       "      <td>87000</td>\n",
       "      <td>Diesel</td>\n",
       "      <td>Manual</td>\n",
       "      <td>First</td>\n",
       "      <td>20.77 kmpl</td>\n",
       "      <td>1248 CC</td>\n",
       "      <td>88.76 bhp</td>\n",
       "      <td>7.0</td>\n",
       "      <td>NaN</td>\n",
       "      <td>6.00</td>\n",
       "    </tr>\n",
       "    <tr>\n",
       "      <th>4</th>\n",
       "      <td>Audi A4 New 2.0 TDI Multitronic</td>\n",
       "      <td>Coimbatore</td>\n",
       "      <td>2013</td>\n",
       "      <td>40670</td>\n",
       "      <td>Diesel</td>\n",
       "      <td>Automatic</td>\n",
       "      <td>Second</td>\n",
       "      <td>15.2 kmpl</td>\n",
       "      <td>1968 CC</td>\n",
       "      <td>140.8 bhp</td>\n",
       "      <td>5.0</td>\n",
       "      <td>NaN</td>\n",
       "      <td>17.74</td>\n",
       "    </tr>\n",
       "  </tbody>\n",
       "</table>\n",
       "</div>"
      ],
      "text/plain": [
       "                               Name    Location  Year  Kilometers_Driven  \\\n",
       "0            Maruti Wagon R LXI CNG      Mumbai  2010              72000   \n",
       "1  Hyundai Creta 1.6 CRDi SX Option        Pune  2015              41000   \n",
       "2                      Honda Jazz V     Chennai  2011              46000   \n",
       "3                 Maruti Ertiga VDI     Chennai  2012              87000   \n",
       "4   Audi A4 New 2.0 TDI Multitronic  Coimbatore  2013              40670   \n",
       "\n",
       "  Fuel_Type Transmission Owner_Type     Mileage   Engine      Power  Seats  \\\n",
       "0       CNG       Manual      First  26.6 km/kg   998 CC  58.16 bhp    5.0   \n",
       "1    Diesel       Manual      First  19.67 kmpl  1582 CC  126.2 bhp    5.0   \n",
       "2    Petrol       Manual      First   18.2 kmpl  1199 CC   88.7 bhp    5.0   \n",
       "3    Diesel       Manual      First  20.77 kmpl  1248 CC  88.76 bhp    7.0   \n",
       "4    Diesel    Automatic     Second   15.2 kmpl  1968 CC  140.8 bhp    5.0   \n",
       "\n",
       "   New_Price  Price  \n",
       "0        NaN   1.75  \n",
       "1        NaN  12.50  \n",
       "2  8.61 Lakh   4.50  \n",
       "3        NaN   6.00  \n",
       "4        NaN  17.74  "
      ]
     },
     "execution_count": 2,
     "metadata": {},
     "output_type": "execute_result"
    }
   ],
   "source": [
    "#Train data\n",
    "train_data_path = data_path+'/Data_Train.xlsx'\n",
    "train_full_data = pd.read_excel(train_data_path)\n",
    "\n",
    "print('****************Train Data:',train_full_data.shape)\n",
    "print(train_full_data.isnull().sum())\n",
    "train_full_data.head()\n"
   ]
  },
  {
   "cell_type": "markdown",
   "metadata": {},
   "source": [
    "# Load the traing data from the `Data_Test.xlsx` excel file"
   ]
  },
  {
   "cell_type": "code",
   "execution_count": 3,
   "metadata": {},
   "outputs": [
    {
     "name": "stdout",
     "output_type": "stream",
     "text": [
      "Test Data:\n",
      " (1234, 12)\n",
      "Name                    0\n",
      "Location                0\n",
      "Year                    0\n",
      "Kilometers_Driven       0\n",
      "Fuel_Type               0\n",
      "Transmission            0\n",
      "Owner_Type              0\n",
      "Mileage                 0\n",
      "Engine                 10\n",
      "Power                  10\n",
      "Seats                  11\n",
      "New_Price            1052\n",
      "dtype: int64\n"
     ]
    },
    {
     "data": {
      "text/html": [
       "<div>\n",
       "<style scoped>\n",
       "    .dataframe tbody tr th:only-of-type {\n",
       "        vertical-align: middle;\n",
       "    }\n",
       "\n",
       "    .dataframe tbody tr th {\n",
       "        vertical-align: top;\n",
       "    }\n",
       "\n",
       "    .dataframe thead th {\n",
       "        text-align: right;\n",
       "    }\n",
       "</style>\n",
       "<table border=\"1\" class=\"dataframe\">\n",
       "  <thead>\n",
       "    <tr style=\"text-align: right;\">\n",
       "      <th></th>\n",
       "      <th>Name</th>\n",
       "      <th>Location</th>\n",
       "      <th>Year</th>\n",
       "      <th>Kilometers_Driven</th>\n",
       "      <th>Fuel_Type</th>\n",
       "      <th>Transmission</th>\n",
       "      <th>Owner_Type</th>\n",
       "      <th>Mileage</th>\n",
       "      <th>Engine</th>\n",
       "      <th>Power</th>\n",
       "      <th>Seats</th>\n",
       "      <th>New_Price</th>\n",
       "    </tr>\n",
       "  </thead>\n",
       "  <tbody>\n",
       "    <tr>\n",
       "      <th>0</th>\n",
       "      <td>Maruti Alto K10 LXI CNG</td>\n",
       "      <td>Delhi</td>\n",
       "      <td>2014</td>\n",
       "      <td>40929</td>\n",
       "      <td>CNG</td>\n",
       "      <td>Manual</td>\n",
       "      <td>First</td>\n",
       "      <td>32.26 km/kg</td>\n",
       "      <td>998 CC</td>\n",
       "      <td>58.2 bhp</td>\n",
       "      <td>4.0</td>\n",
       "      <td>NaN</td>\n",
       "    </tr>\n",
       "    <tr>\n",
       "      <th>1</th>\n",
       "      <td>Maruti Alto 800 2016-2019 LXI</td>\n",
       "      <td>Coimbatore</td>\n",
       "      <td>2013</td>\n",
       "      <td>54493</td>\n",
       "      <td>Petrol</td>\n",
       "      <td>Manual</td>\n",
       "      <td>Second</td>\n",
       "      <td>24.7 kmpl</td>\n",
       "      <td>796 CC</td>\n",
       "      <td>47.3 bhp</td>\n",
       "      <td>5.0</td>\n",
       "      <td>NaN</td>\n",
       "    </tr>\n",
       "    <tr>\n",
       "      <th>2</th>\n",
       "      <td>Toyota Innova Crysta Touring Sport 2.4 MT</td>\n",
       "      <td>Mumbai</td>\n",
       "      <td>2017</td>\n",
       "      <td>34000</td>\n",
       "      <td>Diesel</td>\n",
       "      <td>Manual</td>\n",
       "      <td>First</td>\n",
       "      <td>13.68 kmpl</td>\n",
       "      <td>2393 CC</td>\n",
       "      <td>147.8 bhp</td>\n",
       "      <td>7.0</td>\n",
       "      <td>25.27 Lakh</td>\n",
       "    </tr>\n",
       "    <tr>\n",
       "      <th>3</th>\n",
       "      <td>Toyota Etios Liva GD</td>\n",
       "      <td>Hyderabad</td>\n",
       "      <td>2012</td>\n",
       "      <td>139000</td>\n",
       "      <td>Diesel</td>\n",
       "      <td>Manual</td>\n",
       "      <td>First</td>\n",
       "      <td>23.59 kmpl</td>\n",
       "      <td>1364 CC</td>\n",
       "      <td>null bhp</td>\n",
       "      <td>5.0</td>\n",
       "      <td>NaN</td>\n",
       "    </tr>\n",
       "    <tr>\n",
       "      <th>4</th>\n",
       "      <td>Hyundai i20 Magna</td>\n",
       "      <td>Mumbai</td>\n",
       "      <td>2014</td>\n",
       "      <td>29000</td>\n",
       "      <td>Petrol</td>\n",
       "      <td>Manual</td>\n",
       "      <td>First</td>\n",
       "      <td>18.5 kmpl</td>\n",
       "      <td>1197 CC</td>\n",
       "      <td>82.85 bhp</td>\n",
       "      <td>5.0</td>\n",
       "      <td>NaN</td>\n",
       "    </tr>\n",
       "  </tbody>\n",
       "</table>\n",
       "</div>"
      ],
      "text/plain": [
       "                                        Name    Location  Year  \\\n",
       "0                    Maruti Alto K10 LXI CNG       Delhi  2014   \n",
       "1              Maruti Alto 800 2016-2019 LXI  Coimbatore  2013   \n",
       "2  Toyota Innova Crysta Touring Sport 2.4 MT      Mumbai  2017   \n",
       "3                       Toyota Etios Liva GD   Hyderabad  2012   \n",
       "4                          Hyundai i20 Magna      Mumbai  2014   \n",
       "\n",
       "   Kilometers_Driven Fuel_Type Transmission Owner_Type      Mileage   Engine  \\\n",
       "0              40929       CNG       Manual      First  32.26 km/kg   998 CC   \n",
       "1              54493    Petrol       Manual     Second    24.7 kmpl   796 CC   \n",
       "2              34000    Diesel       Manual      First   13.68 kmpl  2393 CC   \n",
       "3             139000    Diesel       Manual      First   23.59 kmpl  1364 CC   \n",
       "4              29000    Petrol       Manual      First    18.5 kmpl  1197 CC   \n",
       "\n",
       "       Power  Seats   New_Price  \n",
       "0   58.2 bhp    4.0         NaN  \n",
       "1   47.3 bhp    5.0         NaN  \n",
       "2  147.8 bhp    7.0  25.27 Lakh  \n",
       "3   null bhp    5.0         NaN  \n",
       "4  82.85 bhp    5.0         NaN  "
      ]
     },
     "execution_count": 3,
     "metadata": {},
     "output_type": "execute_result"
    }
   ],
   "source": [
    "#Test data\n",
    "test_data_path = data_path + '/Data_Test.xlsx'\n",
    "test_full_data = pd.read_excel(test_data_path)\n",
    "\n",
    "print('Test Data:\\n',test_full_data.shape)\n",
    "print(test_full_data.isnull().sum())\n",
    "test_full_data.head()"
   ]
  },
  {
   "cell_type": "markdown",
   "metadata": {},
   "source": [
    "# Print the unique values in the each column "
   ]
  },
  {
   "cell_type": "code",
   "execution_count": 4,
   "metadata": {},
   "outputs": [
    {
     "name": "stdout",
     "output_type": "stream",
     "text": [
      "Number of unique cars : 1852\n",
      "----------------------------------------------------------\n",
      "Unique cities : ['Mumbai' 'Pune' 'Chennai' 'Coimbatore' 'Hyderabad' 'Jaipur' 'Kochi'\n",
      " 'Kolkata' 'Delhi' 'Bangalore' 'Ahmedabad']\n",
      "----------------------------------------------------------\n",
      "Fuel_Types : ['CNG' 'Diesel' 'Petrol' 'LPG' 'Electric']\n",
      "----------------------------------------------------------\n",
      "Owner_Types : ['First' 'Second' 'Fourth & Above' 'Third']\n",
      "----------------------------------------------------------\n",
      "Transmissions : ['Manual' 'Automatic']\n",
      "----------------------------------------------------------\n",
      "Seats : [ 5.  7.  8.  4.  6.  2. nan 10.  9.  0.]\n",
      "----------------------------------------------------------\n",
      "['kmkg' 'kmpl' nan]\n"
     ]
    }
   ],
   "source": [
    "import string as str\n",
    "import datetime as dt\n",
    "\n",
    "curr_year = dt.datetime.now().year\n",
    "\n",
    "train_full_data['Name'] = train_full_data['Name'].str.upper()\n",
    "print('Number of unique cars :',train_full_data['Name'].nunique())\n",
    "print('----------------------------------------------------------')\n",
    "print('Unique cities :',train_full_data['Location'].unique())\n",
    "\n",
    "print('----------------------------------------------------------')\n",
    "print('Fuel_Types :',train_full_data['Fuel_Type'].unique())\n",
    "\n",
    "print('----------------------------------------------------------')\n",
    "print('Owner_Types :',train_full_data['Owner_Type'].unique())\n",
    "\n",
    "print('----------------------------------------------------------')\n",
    "print('Transmissions :',train_full_data['Transmission'].unique())\n",
    "\n",
    "print('----------------------------------------------------------')\n",
    "print('Seats :',train_full_data['Seats'].unique())\n",
    "\n",
    "print('----------------------------------------------------------')\n",
    "\n",
    "\n",
    "\n",
    "train_full_data['Mileage'] = train_full_data['Mileage'].str.replace(\"/\", \"\")\n",
    "print(train_full_data['Mileage'].str[-4:].unique())\n",
    "train_full_data['Age'] = curr_year - train_full_data['Year']\n",
    "\n",
    "\n",
    "# Similar thing for Test data\n",
    "test_full_data['Mileage'] = test_full_data['Mileage'].str.replace(\"/\", \"\")\n",
    "test_full_data['Name'] = test_full_data['Name'].str.upper()\n",
    "test_full_data['Age'] = curr_year - test_full_data['Year']"
   ]
  },
  {
   "cell_type": "markdown",
   "metadata": {},
   "source": [
    "# Converting object columns into numerical columns\n",
    "> `Mileage`, `Engine`, `Power` Columns have its units like `kmkg`, `kmkg`,`CC`, `bhp`.\n",
    "> remove the units and convert all the columns into numeric columns"
   ]
  },
  {
   "cell_type": "markdown",
   "metadata": {},
   "source": [
    "# Mileage and Kilometers_Driven"
   ]
  },
  {
   "cell_type": "code",
   "execution_count": 5,
   "metadata": {},
   "outputs": [],
   "source": [
    "#train_full_data['Kilometers_Driven'] = train_full_data['Kilometers_Driven']/100\n",
    "train_full_data['Price'] = train_full_data['Price']"
   ]
  },
  {
   "cell_type": "code",
   "execution_count": 6,
   "metadata": {},
   "outputs": [],
   "source": [
    "#Train Data\n",
    "train_full_data['Mileage'] = train_full_data['Mileage'].str.replace(\" kmkg\", \"\")\n",
    "train_full_data['Mileage'] = train_full_data['Mileage'].str.replace(\" kmpl\", \"\")\n",
    "train_full_data['Mileage'] = train_full_data['Mileage'].astype(float)\n",
    "\n",
    "\n",
    "#Test data \n",
    "\n",
    "test_full_data['Mileage'] = test_full_data['Mileage'].str.replace(\" kmkg\", \"\")\n",
    "test_full_data['Mileage'] = test_full_data['Mileage'].str.replace(\" kmpl\", \"\")\n",
    "test_full_data['Mileage'] = test_full_data['Mileage'].astype(float)"
   ]
  },
  {
   "cell_type": "markdown",
   "metadata": {},
   "source": [
    "# Print unique units of Engine and Power"
   ]
  },
  {
   "cell_type": "code",
   "execution_count": 7,
   "metadata": {},
   "outputs": [
    {
     "name": "stdout",
     "output_type": "stream",
     "text": [
      "Unique Engine units ['CC' nan]\n",
      "Unique Power units ['bhp' nan]\n"
     ]
    }
   ],
   "source": [
    "print('Unique Engine units',train_full_data['Engine'].str[-2:].unique())\n",
    "print('Unique Power units',train_full_data['Power'].str[-3:].unique())"
   ]
  },
  {
   "cell_type": "markdown",
   "metadata": {},
   "source": [
    "# Engine"
   ]
  },
  {
   "cell_type": "code",
   "execution_count": 8,
   "metadata": {},
   "outputs": [],
   "source": [
    "train_full_data['Engine'] = train_full_data['Engine'].str.replace(' CC','')\n",
    "train_full_data['Engine'] = train_full_data['Engine'].astype(float)\n",
    "\n",
    "\n",
    "#test_full_data\n",
    "\n",
    "test_full_data['Engine'] = test_full_data['Engine'].str.replace(' CC','')\n",
    "test_full_data['Engine'] = test_full_data['Engine'].astype(float)\n",
    "\n"
   ]
  },
  {
   "cell_type": "markdown",
   "metadata": {},
   "source": [
    "# Power"
   ]
  },
  {
   "cell_type": "code",
   "execution_count": 9,
   "metadata": {},
   "outputs": [],
   "source": [
    "train_full_data['Power'] = train_full_data['Power'].str.replace(' bhp','')\n",
    "train_full_data['Power'] = train_full_data['Power'].str.replace('null','NaN')\n",
    "train_full_data['Power'] = train_full_data['Power'].astype(float)\n",
    "\n",
    "\n",
    "# Test data\n",
    "\n",
    "test_full_data['Power'] = test_full_data['Power'].str.replace(' bhp','')\n",
    "test_full_data['Power'] = test_full_data['Power'].str.replace('null','NaN')\n",
    "test_full_data['Power'] = test_full_data['Power'].astype(float)\n"
   ]
  },
  {
   "cell_type": "markdown",
   "metadata": {},
   "source": [
    "# Remove the column `New_Price` from the data set\n",
    "> Since 5195 records have missing values in the `New_Price`, it would be better to drop the column"
   ]
  },
  {
   "cell_type": "code",
   "execution_count": 10,
   "metadata": {},
   "outputs": [],
   "source": [
    "#Train\n",
    "train_full_data.drop('New_Price', axis = 1, inplace = True)\n",
    "\n",
    "#test\n",
    "test_full_data.drop('New_Price', axis = 1, inplace = True)"
   ]
  },
  {
   "cell_type": "markdown",
   "metadata": {},
   "source": [
    "# Drop the column `Year`. Since we have calculated the `Age` of the car"
   ]
  },
  {
   "cell_type": "code",
   "execution_count": 11,
   "metadata": {},
   "outputs": [],
   "source": [
    "#Train\n",
    "train_full_data.drop('Year',axis = 1,inplace= True )\n",
    "\n",
    "#test\n",
    "test_full_data.drop('Year',axis = 1,inplace= True )"
   ]
  },
  {
   "cell_type": "markdown",
   "metadata": {},
   "source": [
    "# Create Two new features namely Model and Brand"
   ]
  },
  {
   "cell_type": "code",
   "execution_count": 12,
   "metadata": {},
   "outputs": [],
   "source": [
    "#Train\n",
    "train_brand = train_full_data.Name.str.split().str[:3]\n",
    "train_full_data ['Model'] = train_brand.str[1] + ' '+ train_brand.str[2] \n",
    "train_full_data ['Brand'] = train_brand.str[0]\n",
    "\n",
    "#Test\n",
    "test_brand = test_full_data.Name.str.split().str[:3]\n",
    "test_full_data ['Model'] = test_brand.str[1] + ' '+ test_brand.str[2]\n",
    "test_full_data ['Brand'] = test_brand.str[0]\n",
    "test_full_data.loc[test_full_data.Name.isna().index,'Model'] = '1.4GSI'"
   ]
  },
  {
   "cell_type": "markdown",
   "metadata": {},
   "source": [
    "# Replace all `0` values with `np.nan`"
   ]
  },
  {
   "cell_type": "code",
   "execution_count": 13,
   "metadata": {},
   "outputs": [],
   "source": [
    "#Train\n",
    "train_full_data['Mileage'].fillna(value=np.NaN, inplace=True)\n",
    "test_full_data['Mileage'].fillna(value=np.NaN, inplace=True)\n",
    "train_full_data.loc[train_full_data.Mileage==0,'Mileage']= np.nan\n",
    "test_full_data.loc[test_full_data.Mileage==0,'Mileage']= np.nan\n",
    "\n",
    "#Test\n",
    "train_full_data['Seats'].fillna(value=np.NaN, inplace=True)\n",
    "test_full_data['Seats'].fillna(value=np.NaN, inplace=True)\n",
    "train_full_data.loc[train_full_data.Seats==0,'Seats']= np.nan\n",
    "test_full_data.loc[test_full_data.Seats==0,'Seats']= np.nan\n"
   ]
  },
  {
   "cell_type": "markdown",
   "metadata": {},
   "source": [
    "# Get the list of all the models where `Power` or `Engine` or `Seats` or `Mileage` is missing"
   ]
  },
  {
   "cell_type": "code",
   "execution_count": 14,
   "metadata": {},
   "outputs": [],
   "source": [
    "missing_values_brands_train = list ( train_full_data[(train_full_data.Power.isnull()) | \n",
    "                                            (train_full_data.Engine.isnull()) |\n",
    "                                            (train_full_data.Seats.isnull()) |\n",
    "                                            (train_full_data.Mileage.isnull())\n",
    "                                           ].Brand.unique()\n",
    "                          )\n",
    "\n",
    "\n",
    "missing_values_brands_test = list ( test_full_data[(test_full_data.Power.isnull()) | \n",
    "                                            (test_full_data.Engine.isnull()) |\n",
    "                                            (test_full_data.Seats.isnull()) |\n",
    "                                            (test_full_data.Mileage.isnull())\n",
    "                                           ].Brand.unique()\n",
    "                          )\n",
    "\n",
    "\n",
    "missing_values_brands = list (set(missing_values_brands_test) | set(missing_values_brands_train))\n"
   ]
  },
  {
   "cell_type": "markdown",
   "metadata": {},
   "source": [
    "# Create a dataframe using Train and Test dataset which has the missing values of all the models which are obtained in `missing_values_brands`\n",
    "\n",
    "# And create a lookup dataframe for the same"
   ]
  },
  {
   "cell_type": "markdown",
   "metadata": {},
   "source": [
    "# Obtain `missing_power_model`/`missing_power_brand`"
   ]
  },
  {
   "cell_type": "code",
   "execution_count": 15,
   "metadata": {},
   "outputs": [],
   "source": [
    "#Train\n",
    "missing_power_model_train = train_full_data.loc[(  (train_full_data.Power.notna()) \n",
    "                                                   & \n",
    "                                                   (train_full_data.Brand.isin(missing_values_brands)\n",
    "                                                   )\n",
    "                                                ) , \n",
    "                                                  [\"Brand\",\"Model\",\"Power\"]\n",
    "                                               ]\n",
    "\n",
    "#Test\n",
    "missing_power_model_test =  test_full_data.loc[(  (test_full_data.Power.notna()) \n",
    "                                                   & \n",
    "                                                   (test_full_data.Brand.isin(missing_values_brands)\n",
    "                                                   )\n",
    "                                                ) , \n",
    "                                                  [\"Brand\",\"Model\",\"Power\"]\n",
    "                                               ]\n",
    "\n",
    "\n",
    "\n",
    "\n",
    "                                        \n",
    "missing_power_model_all = pd.concat([missing_power_model_train,missing_power_model_test])\n",
    "\n",
    "missing_power_model =  missing_power_model_all.loc[:,[\"Power\"]].groupby(missing_power_model_all.Model).median()\n",
    "missing_power_brand =  missing_power_model_all.loc[:,[\"Power\"]].groupby(missing_power_model_all.Brand).mean()"
   ]
  },
  {
   "cell_type": "markdown",
   "metadata": {},
   "source": [
    "# Obtain `missing_engine_model`/`missing_engine_brand`"
   ]
  },
  {
   "cell_type": "code",
   "execution_count": 16,
   "metadata": {},
   "outputs": [],
   "source": [
    "#Train\n",
    "missing_engine_model_train = train_full_data.loc[(  (train_full_data.Engine.notna()) \n",
    "                                                   & \n",
    "                                                   (train_full_data.Brand.isin(missing_values_brands)\n",
    "                                                   )\n",
    "                                                ) , \n",
    "                                                  [\"Brand\",\"Model\",\"Engine\"]\n",
    "                                               ]\n",
    "\n",
    "#Test\n",
    "missing_engine_model_test =  test_full_data.loc[(  (test_full_data.Engine.notna()) \n",
    "                                                   & \n",
    "                                                   (test_full_data.Brand.isin(missing_values_brands)\n",
    "                                                   )\n",
    "                                                ) , \n",
    "                                                  [\"Brand\",\"Model\",\"Engine\"]\n",
    "                                               ]\n",
    "\n",
    "             \n",
    "missing_engine_model_all = pd.concat([missing_engine_model_train,missing_engine_model_test])\n",
    "\n",
    "missing_engine_model =  missing_engine_model_all.loc[:,[\"Engine\"]].groupby(missing_engine_model_all.Model).median()\n",
    "\n",
    "missing_engine_brand =  missing_engine_model_all.loc[:,[\"Engine\"]].groupby(missing_engine_model_all.Brand).mean()\n"
   ]
  },
  {
   "cell_type": "markdown",
   "metadata": {},
   "source": [
    "# Obtain `missing_seats_model`/`missing_seats_brand`"
   ]
  },
  {
   "cell_type": "code",
   "execution_count": 17,
   "metadata": {},
   "outputs": [],
   "source": [
    "#Train\n",
    "missing_Seats_model_train = train_full_data.loc[(  (train_full_data.Seats.notna()) \n",
    "                                                   & \n",
    "                                                   (train_full_data.Brand.isin(missing_values_brands)\n",
    "                                                   )\n",
    "                                                ) , \n",
    "                                                  [\"Brand\",\"Model\",\"Seats\"]\n",
    "                                               ]\n",
    "\n",
    "#Test\n",
    "missing_Seats_model_test =  test_full_data.loc[(  (test_full_data.Seats.notna()) \n",
    "                                                   & \n",
    "                                                   (test_full_data.Brand.isin(missing_values_brands)\n",
    "                                                   )\n",
    "                                                ) , \n",
    "                                                  [\"Brand\",\"Model\",\"Seats\"]\n",
    "                                               ]\n",
    "\n",
    "             \n",
    "missing_Seats_model_all = pd.concat([missing_Seats_model_train,missing_Seats_model_test])\n",
    "\n",
    "missing_seats_model =  missing_Seats_model_all.loc[:,[\"Seats\"]].groupby(missing_Seats_model_all.Model).median()\n",
    "\n",
    "missing_seats_brand =  missing_Seats_model_all.loc[:,[\"Seats\"]].groupby(missing_Seats_model_all.Brand).mean()"
   ]
  },
  {
   "cell_type": "markdown",
   "metadata": {},
   "source": [
    "# Obtain `missing_mileage_model`/`missing_mileage_brand`"
   ]
  },
  {
   "cell_type": "code",
   "execution_count": 18,
   "metadata": {},
   "outputs": [],
   "source": [
    "#Train\n",
    "missing_Mileage_model_train = train_full_data.loc[(  (train_full_data.Mileage.notna()) \n",
    "                                                   & \n",
    "                                                   (train_full_data.Brand.isin(missing_values_brands)\n",
    "                                                   )\n",
    "                                                ) , \n",
    "                                                  [\"Brand\",\"Model\",\"Mileage\"]\n",
    "                                               ]\n",
    "\n",
    "#Test\n",
    "missing_Mileage_model_test =  test_full_data.loc[(  (test_full_data.Mileage.notna()) \n",
    "                                                   & \n",
    "                                                   (test_full_data.Brand.isin(missing_values_brands)\n",
    "                                                   )\n",
    "                                                ) , \n",
    "                                                  [\"Brand\",\"Model\",\"Mileage\"]\n",
    "                                               ]\n",
    "\n",
    "             \n",
    "missing_Mileage_model_all = pd.concat([missing_Mileage_model_train,missing_Mileage_model_test])\n",
    "\n",
    "missing_mileage_model =  missing_Mileage_model_all.loc[:,[\"Mileage\"]].groupby(missing_Mileage_model_all.Model).median()\n",
    "\n",
    "missing_mileage_brand =  missing_Mileage_model_all.loc[:,[\"Mileage\"]].groupby(missing_Mileage_model_all.Brand).mean()"
   ]
  },
  {
   "cell_type": "markdown",
   "metadata": {},
   "source": [
    "# Create a methods for each above features to fill the missing values with the values obtained by lookup dataframe"
   ]
  },
  {
   "cell_type": "markdown",
   "metadata": {},
   "source": [
    "# Method for `Power`"
   ]
  },
  {
   "cell_type": "code",
   "execution_count": 19,
   "metadata": {},
   "outputs": [],
   "source": [
    "def fill_na_power(df):\n",
    "    \n",
    "    if df['Power'] == 0.0:\n",
    "        if df['Power'] == 0.0 and df['Model'] in missing_power_model.index:\n",
    "            return missing_power_model.at[df['Model'],'Power']\n",
    "        elif df.Power == 0.0 and df['Brand'] in missing_power_brand.index:\n",
    "            return missing_power_brand.at[df['Brand'],'Power']\n",
    "        else:\n",
    "            return df['Power']\n",
    "    else:\n",
    "        return df['Power']   "
   ]
  },
  {
   "cell_type": "markdown",
   "metadata": {},
   "source": [
    "# Method for `Engine`"
   ]
  },
  {
   "cell_type": "code",
   "execution_count": 20,
   "metadata": {},
   "outputs": [],
   "source": [
    "def fill_na_engine(df):\n",
    "    \n",
    "    if df['Engine'] == 0.0:\n",
    "        if df['Engine'] == 0.0 and df['Model'] in missing_engine_model.index:\n",
    "            return missing_engine_model.at[df['Model'],'Engine']\n",
    "        elif df.Engine == 0.0 and df['Brand'] in missing_engine_brand.index:\n",
    "            return missing_engine_brand.at[df['Brand'],'Engine']\n",
    "        else:\n",
    "            return df['Engine']\n",
    "    else:\n",
    "        return df['Engine']   "
   ]
  },
  {
   "cell_type": "markdown",
   "metadata": {},
   "source": [
    "# Method for `Seats`"
   ]
  },
  {
   "cell_type": "code",
   "execution_count": 21,
   "metadata": {},
   "outputs": [],
   "source": [
    "def fill_na_seats(df):\n",
    "    \n",
    "    if df['Seats'] == 0.0:\n",
    "        if df['Seats'] == 0.0 and df['Model'] in missing_seats_model.index:\n",
    "            return missing_seats_model.at[df['Model'],'Seats']\n",
    "        elif df.Seats == 0.0 and df['Brand'] in missing_seats_brand.index:\n",
    "            return missing_seats_brand.at[df['Brand'],'Seats']\n",
    "        else:\n",
    "            return df['Seats']\n",
    "    else:\n",
    "        return df['Seats']   "
   ]
  },
  {
   "cell_type": "markdown",
   "metadata": {},
   "source": [
    "# Method for `Mileage`"
   ]
  },
  {
   "cell_type": "code",
   "execution_count": 22,
   "metadata": {},
   "outputs": [],
   "source": [
    "def fill_na_mileage(df):\n",
    "    \n",
    "    if df['Mileage'] == 0.0:\n",
    "        if df['Mileage'] == 0.0 and df['Model'] in missing_mileage_model.index:\n",
    "            return missing_mileage_model.at[df['Model'],'Mileage']\n",
    "        elif df.Mileage == 0.0 and df['Brand'] in missing_mileage_brand.index:\n",
    "            return missing_mileage_brand.at[df['Brand'],'Mileage']\n",
    "        else:\n",
    "            return df['Mileage']\n",
    "    else:\n",
    "        return df['Mileage']   "
   ]
  },
  {
   "cell_type": "markdown",
   "metadata": {},
   "source": [
    "# Print the count of missing values in both Train and Test Data set"
   ]
  },
  {
   "cell_type": "code",
   "execution_count": 23,
   "metadata": {},
   "outputs": [
    {
     "name": "stdout",
     "output_type": "stream",
     "text": [
      "\u001b[1mTrain data set:\n",
      "\u001b[0m Name                   0\n",
      "Location               0\n",
      "Kilometers_Driven      0\n",
      "Fuel_Type              0\n",
      "Transmission           0\n",
      "Owner_Type             0\n",
      "Mileage               70\n",
      "Engine                36\n",
      "Power                143\n",
      "Seats                 43\n",
      "Price                  0\n",
      "Age                    0\n",
      "Model                  0\n",
      "Brand                  0\n",
      "dtype: int64\n",
      "\u001b[1mTest data set:\n",
      "\u001b[0m Name                  0\n",
      "Location              0\n",
      "Kilometers_Driven     0\n",
      "Fuel_Type             0\n",
      "Transmission          0\n",
      "Owner_Type            0\n",
      "Mileage              13\n",
      "Engine               10\n",
      "Power                32\n",
      "Seats                11\n",
      "Age                   0\n",
      "Model                 0\n",
      "Brand                 0\n",
      "dtype: int64\n"
     ]
    }
   ],
   "source": [
    "print('\\033[1m'+\"Train data set:\\n\"+'\\033[0m' ,train_full_data.isna().sum())\n",
    "print('\\033[1m'+\"Test data set:\\n\"+'\\033[0m',test_full_data.isna().sum())"
   ]
  },
  {
   "cell_type": "markdown",
   "metadata": {},
   "source": [
    "# Fill the missing values in both test and train using the methods created above"
   ]
  },
  {
   "cell_type": "markdown",
   "metadata": {},
   "source": [
    "# Fill missing values of Power"
   ]
  },
  {
   "cell_type": "code",
   "execution_count": 24,
   "metadata": {},
   "outputs": [],
   "source": [
    "#Train\n",
    "train_full_data.Power.fillna(value = 0.0,inplace= True)\n",
    "train_full_data.Power = train_full_data.apply(fill_na_power,axis =1)\n",
    "\n",
    "#Test\n",
    "test_full_data.Power.fillna(value = 0.0,inplace= True)\n",
    "test_full_data.Power = test_full_data.apply(fill_na_power,axis =1)\n"
   ]
  },
  {
   "cell_type": "markdown",
   "metadata": {},
   "source": [
    "# Fill missing values of `Engine`"
   ]
  },
  {
   "cell_type": "code",
   "execution_count": 25,
   "metadata": {},
   "outputs": [],
   "source": [
    "#Train\n",
    "train_full_data.Engine.fillna(value = 0.0,inplace= True)\n",
    "train_full_data.Engine = train_full_data.apply(fill_na_engine,axis =1)\n",
    "\n",
    "#Test\n",
    "test_full_data.Engine.fillna(value = 0.0,inplace= True)\n",
    "test_full_data.Engine = test_full_data.apply(fill_na_engine,axis =1)\n"
   ]
  },
  {
   "cell_type": "markdown",
   "metadata": {},
   "source": [
    "# Fill missing values of `Seats`"
   ]
  },
  {
   "cell_type": "code",
   "execution_count": 26,
   "metadata": {},
   "outputs": [],
   "source": [
    "#Train\n",
    "train_full_data.Seats.fillna(value = 0.0,inplace= True)\n",
    "train_full_data.Seats = train_full_data.apply(fill_na_seats,axis =1)\n",
    "\n",
    "#Test\n",
    "test_full_data.Seats.fillna(value = 0.0,inplace= True)\n",
    "test_full_data.Seats = test_full_data.apply(fill_na_seats,axis =1)"
   ]
  },
  {
   "cell_type": "markdown",
   "metadata": {},
   "source": [
    "# Fill missing values of `Mileage`"
   ]
  },
  {
   "cell_type": "code",
   "execution_count": 27,
   "metadata": {},
   "outputs": [],
   "source": [
    "#Train\n",
    "train_full_data.Mileage.fillna(value = 0.0,inplace= True)\n",
    "train_full_data.Mileage = train_full_data.apply(fill_na_mileage,axis =1)\n",
    "\n",
    "#Test\n",
    "test_full_data.Mileage.fillna(value = 0.0,inplace= True)\n",
    "test_full_data.Mileage = test_full_data.apply(fill_na_mileage,axis =1)"
   ]
  },
  {
   "cell_type": "markdown",
   "metadata": {},
   "source": [
    "# Still some of the columns have null values i.e 0 values,\n",
    "# Lets look at those rows"
   ]
  },
  {
   "cell_type": "code",
   "execution_count": 28,
   "metadata": {},
   "outputs": [
    {
     "name": "stdout",
     "output_type": "stream",
     "text": [
      "Train Mileage: 1\n",
      "Train Seats: 0\n",
      "Train Power: 1\n",
      "Train Engine: 0\n",
      "--------------\n",
      "Test Mileage: 0\n",
      "Test Seats: 0\n",
      "Test Power: 0\n",
      "Test Engine: 0\n"
     ]
    }
   ],
   "source": [
    "print('Train Mileage:',train_full_data[train_full_data.Mileage == 0.0].Mileage.count())\n",
    "print('Train Seats:',train_full_data[train_full_data.Seats == 0.0].Seats.count())\n",
    "print('Train Power:',train_full_data[train_full_data.Power == 0.0].Power.count())\n",
    "print('Train Engine:',train_full_data[train_full_data.Engine == 0.0].Engine.count())\n",
    "\n",
    "\n",
    "print('--------------')\n",
    "print('Test Mileage:',test_full_data[test_full_data.Mileage == 0.0].Mileage.count())\n",
    "print('Test Seats:',test_full_data[test_full_data.Seats == 0.0].Seats.count())\n",
    "print('Test Power:',test_full_data[test_full_data.Power == 0.0].Power.count())\n",
    "print('Test Engine:',test_full_data[test_full_data.Engine == 0.0].Engine.count())"
   ]
  },
  {
   "cell_type": "markdown",
   "metadata": {},
   "source": [
    "# Re-ordering the columns"
   ]
  },
  {
   "cell_type": "code",
   "execution_count": 29,
   "metadata": {},
   "outputs": [],
   "source": [
    "#Re-ordering the columns\n",
    "train_full_data = train_full_data[['Brand', 'Model', 'Age','Location', 'Kilometers_Driven', 'Fuel_Type', 'Transmission',\n",
    "      'Owner_Type', 'Mileage', 'Engine', 'Power', 'Seats', 'Price']]\n",
    "test_full_data = test_full_data[['Brand', 'Model', 'Age','Location', 'Kilometers_Driven', 'Fuel_Type', 'Transmission',\n",
    "      'Owner_Type', 'Mileage', 'Engine', 'Power', 'Seats']]"
   ]
  },
  {
   "cell_type": "markdown",
   "metadata": {},
   "source": [
    "# Fiiling the np.nan rows in train data set using imputer"
   ]
  },
  {
   "cell_type": "code",
   "execution_count": 30,
   "metadata": {},
   "outputs": [],
   "source": [
    "train_full_data.loc[train_full_data[train_full_data.Mileage == 0.0].index,'Mileage'] = np.nan\n",
    "train_full_data.loc[train_full_data[train_full_data.Power == 0.0].index,'Power'] = np.nan\n",
    "from sklearn.impute import SimpleImputer\n",
    "#Training Set Imputation\n",
    "imputer = SimpleImputer(missing_values = np.nan, strategy = 'most_frequent')\n",
    "imputer_power= imputer.fit_transform(train_full_data[['Power']]) \n",
    "imputer_mileage = imputer.fit_transform(train_full_data[['Mileage']])\n",
    "train_full_data['Power'] = imputer_power\n",
    "train_full_data['Mileage'] = imputer_mileage"
   ]
  },
  {
   "cell_type": "markdown",
   "metadata": {},
   "source": [
    "# Filling the test dataset with the actual car value"
   ]
  },
  {
   "cell_type": "code",
   "execution_count": 31,
   "metadata": {},
   "outputs": [],
   "source": [
    "test_full_data.loc[test_full_data[test_full_data.Power == 0.0].Power.index,'Power'] = 75"
   ]
  },
  {
   "cell_type": "markdown",
   "metadata": {},
   "source": [
    "# Again check if the data frame has null values i.e `0.0`"
   ]
  },
  {
   "cell_type": "code",
   "execution_count": 32,
   "metadata": {},
   "outputs": [
    {
     "name": "stdout",
     "output_type": "stream",
     "text": [
      "Train Mileage: 0\n",
      "Train Seats: 0\n",
      "Train Power: 0\n",
      "Train Engine: 0\n",
      "--------------\n",
      "Test Mileage: 0\n",
      "Test Seats: 0\n",
      "Test Power: 0\n",
      "Test Engine: 0\n"
     ]
    }
   ],
   "source": [
    "print('Train Mileage:',train_full_data[train_full_data.Mileage == 0.0].Mileage.count())\n",
    "print('Train Seats:',train_full_data[train_full_data.Seats == 0.0].Seats.count())\n",
    "print('Train Power:',train_full_data[train_full_data.Power == 0.0].Power.count())\n",
    "print('Train Engine:',train_full_data[train_full_data.Engine == 0.0].Engine.count())\n",
    "\n",
    "\n",
    "print('--------------')\n",
    "print('Test Mileage:',test_full_data[test_full_data.Mileage == 0.0].Mileage.count())\n",
    "print('Test Seats:',test_full_data[test_full_data.Seats == 0.0].Seats.count())\n",
    "print('Test Power:',test_full_data[test_full_data.Power == 0.0].Power.count())\n",
    "print('Test Engine:',test_full_data[test_full_data.Engine == 0.0].Engine.count())"
   ]
  },
  {
   "cell_type": "markdown",
   "metadata": {},
   "source": [
    "# Store the DF in a copy for future reference"
   ]
  },
  {
   "cell_type": "code",
   "execution_count": 33,
   "metadata": {},
   "outputs": [],
   "source": [
    "train_full_data_cp1 = train_full_data.copy()\n",
    "test_full_data_cp1 =test_full_data.copy()"
   ]
  },
  {
   "cell_type": "markdown",
   "metadata": {},
   "source": [
    "# Since now we have no missing values , we can proceed with the model building"
   ]
  },
  {
   "cell_type": "code",
   "execution_count": 34,
   "metadata": {},
   "outputs": [],
   "source": [
    "feature_cols1 = ['Brand', 'Model', 'Age','Location', 'Kilometers_Driven', 'Fuel_Type', 'Transmission','Owner_Type', 'Mileage', 'Engine', 'Power', 'Seats']"
   ]
  },
  {
   "cell_type": "markdown",
   "metadata": {},
   "source": [
    "# Label encoding for categorical variables"
   ]
  },
  {
   "cell_type": "code",
   "execution_count": 35,
   "metadata": {},
   "outputs": [],
   "source": [
    "#Initializing label encoders\n",
    "from sklearn.preprocessing import LabelEncoder\n",
    "le_brands = LabelEncoder()\n",
    "le_models = LabelEncoder()\n",
    "le_locations = LabelEncoder()\n",
    "le_fuel_types = LabelEncoder()\n",
    "le_transmissions = LabelEncoder()\n",
    "le_owner_types = LabelEncoder()"
   ]
  },
  {
   "cell_type": "code",
   "execution_count": 36,
   "metadata": {},
   "outputs": [],
   "source": [
    "all_brands = list(set(list(train_full_data.Brand) + list(test_full_data.Brand)))\n",
    "all_models = list(set(list(train_full_data.Model) + list(test_full_data.Model)))\n",
    "all_locations = list(set(list(train_full_data.Location) + list(test_full_data.Location)))\n",
    "all_fuel_types = list(set(list(train_full_data.Fuel_Type) + list(test_full_data.Fuel_Type)))\n",
    "all_transmissions = list(set(list(train_full_data.Transmission) + list(test_full_data.Transmission)))\n",
    "all_owner_types = list(set(list(train_full_data.Owner_Type) + list(test_full_data.Owner_Type)))"
   ]
  },
  {
   "cell_type": "code",
   "execution_count": 37,
   "metadata": {},
   "outputs": [
    {
     "data": {
      "text/plain": [
       "LabelEncoder()"
      ]
     },
     "execution_count": 37,
     "metadata": {},
     "output_type": "execute_result"
    }
   ],
   "source": [
    "#Fitting the categories\n",
    "le_brands.fit(all_brands)\n",
    "le_models.fit(all_models)\n",
    "le_locations.fit(all_locations)\n",
    "le_fuel_types.fit(all_fuel_types)\n",
    "le_transmissions.fit(all_transmissions)\n",
    "le_owner_types.fit(all_owner_types)"
   ]
  },
  {
   "cell_type": "code",
   "execution_count": 38,
   "metadata": {},
   "outputs": [],
   "source": [
    "#Applying encoding to test_full_data data\n",
    "test_full_data['Brand'] = le_brands.transform(test_full_data['Brand'])\n",
    "test_full_data['Model'] = le_models.transform(test_full_data['Model'])\n",
    "test_full_data['Location'] = le_locations.transform(test_full_data['Location'])\n",
    "test_full_data['Fuel_Type'] = le_fuel_types.transform(test_full_data['Fuel_Type'])\n",
    "test_full_data['Transmission'] = le_transmissions.transform(test_full_data['Transmission'])\n",
    "test_full_data['Owner_Type'] = le_owner_types.transform(test_full_data['Owner_Type'])"
   ]
  },
  {
   "cell_type": "code",
   "execution_count": 39,
   "metadata": {},
   "outputs": [],
   "source": [
    "#Applying encoding to train_full_data data\n",
    "train_full_data['Brand'] = le_brands.transform(train_full_data['Brand'])\n",
    "train_full_data['Model'] = le_models.transform(train_full_data['Model'])\n",
    "train_full_data['Location'] = le_locations.transform(train_full_data['Location'])\n",
    "train_full_data['Fuel_Type'] = le_fuel_types.transform(train_full_data['Fuel_Type'])\n",
    "train_full_data['Transmission'] = le_transmissions.transform(train_full_data['Transmission'])\n",
    "train_full_data['Owner_Type'] = le_owner_types.transform(train_full_data['Owner_Type'])"
   ]
  },
  {
   "cell_type": "code",
   "execution_count": 40,
   "metadata": {},
   "outputs": [
    {
     "data": {
      "text/html": [
       "<div>\n",
       "<style scoped>\n",
       "    .dataframe tbody tr th:only-of-type {\n",
       "        vertical-align: middle;\n",
       "    }\n",
       "\n",
       "    .dataframe tbody tr th {\n",
       "        vertical-align: top;\n",
       "    }\n",
       "\n",
       "    .dataframe thead th {\n",
       "        text-align: right;\n",
       "    }\n",
       "</style>\n",
       "<table border=\"1\" class=\"dataframe\">\n",
       "  <thead>\n",
       "    <tr style=\"text-align: right;\">\n",
       "      <th></th>\n",
       "      <th>Brand</th>\n",
       "      <th>Model</th>\n",
       "      <th>Age</th>\n",
       "      <th>Location</th>\n",
       "      <th>Kilometers_Driven</th>\n",
       "      <th>Fuel_Type</th>\n",
       "      <th>Transmission</th>\n",
       "      <th>Owner_Type</th>\n",
       "      <th>Mileage</th>\n",
       "      <th>Engine</th>\n",
       "      <th>Power</th>\n",
       "      <th>Seats</th>\n",
       "      <th>Price</th>\n",
       "    </tr>\n",
       "  </thead>\n",
       "  <tbody>\n",
       "    <tr>\n",
       "      <th>0</th>\n",
       "      <td>18</td>\n",
       "      <td>612</td>\n",
       "      <td>9</td>\n",
       "      <td>9</td>\n",
       "      <td>72000</td>\n",
       "      <td>0</td>\n",
       "      <td>1</td>\n",
       "      <td>0</td>\n",
       "      <td>26.60</td>\n",
       "      <td>998.0</td>\n",
       "      <td>58.16</td>\n",
       "      <td>5.0</td>\n",
       "      <td>1.75</td>\n",
       "    </tr>\n",
       "    <tr>\n",
       "      <th>1</th>\n",
       "      <td>11</td>\n",
       "      <td>162</td>\n",
       "      <td>4</td>\n",
       "      <td>10</td>\n",
       "      <td>41000</td>\n",
       "      <td>1</td>\n",
       "      <td>1</td>\n",
       "      <td>0</td>\n",
       "      <td>19.67</td>\n",
       "      <td>1582.0</td>\n",
       "      <td>126.20</td>\n",
       "      <td>5.0</td>\n",
       "      <td>12.50</td>\n",
       "    </tr>\n",
       "    <tr>\n",
       "      <th>2</th>\n",
       "      <td>10</td>\n",
       "      <td>335</td>\n",
       "      <td>8</td>\n",
       "      <td>2</td>\n",
       "      <td>46000</td>\n",
       "      <td>4</td>\n",
       "      <td>1</td>\n",
       "      <td>0</td>\n",
       "      <td>18.20</td>\n",
       "      <td>1199.0</td>\n",
       "      <td>88.70</td>\n",
       "      <td>5.0</td>\n",
       "      <td>4.50</td>\n",
       "    </tr>\n",
       "    <tr>\n",
       "      <th>3</th>\n",
       "      <td>18</td>\n",
       "      <td>224</td>\n",
       "      <td>7</td>\n",
       "      <td>2</td>\n",
       "      <td>87000</td>\n",
       "      <td>1</td>\n",
       "      <td>1</td>\n",
       "      <td>0</td>\n",
       "      <td>20.77</td>\n",
       "      <td>1248.0</td>\n",
       "      <td>88.76</td>\n",
       "      <td>7.0</td>\n",
       "      <td>6.00</td>\n",
       "    </tr>\n",
       "    <tr>\n",
       "      <th>4</th>\n",
       "      <td>1</td>\n",
       "      <td>21</td>\n",
       "      <td>6</td>\n",
       "      <td>3</td>\n",
       "      <td>40670</td>\n",
       "      <td>1</td>\n",
       "      <td>0</td>\n",
       "      <td>2</td>\n",
       "      <td>15.20</td>\n",
       "      <td>1968.0</td>\n",
       "      <td>140.80</td>\n",
       "      <td>5.0</td>\n",
       "      <td>17.74</td>\n",
       "    </tr>\n",
       "  </tbody>\n",
       "</table>\n",
       "</div>"
      ],
      "text/plain": [
       "   Brand  Model  Age  Location  Kilometers_Driven  Fuel_Type  Transmission  \\\n",
       "0     18    612    9         9              72000          0             1   \n",
       "1     11    162    4        10              41000          1             1   \n",
       "2     10    335    8         2              46000          4             1   \n",
       "3     18    224    7         2              87000          1             1   \n",
       "4      1     21    6         3              40670          1             0   \n",
       "\n",
       "   Owner_Type  Mileage  Engine   Power  Seats  Price  \n",
       "0           0    26.60   998.0   58.16    5.0   1.75  \n",
       "1           0    19.67  1582.0  126.20    5.0  12.50  \n",
       "2           0    18.20  1199.0   88.70    5.0   4.50  \n",
       "3           0    20.77  1248.0   88.76    7.0   6.00  \n",
       "4           2    15.20  1968.0  140.80    5.0  17.74  "
      ]
     },
     "execution_count": 40,
     "metadata": {},
     "output_type": "execute_result"
    }
   ],
   "source": [
    "train_full_data.head()"
   ]
  },
  {
   "cell_type": "code",
   "execution_count": 41,
   "metadata": {},
   "outputs": [
    {
     "data": {
      "text/html": [
       "<div>\n",
       "<style scoped>\n",
       "    .dataframe tbody tr th:only-of-type {\n",
       "        vertical-align: middle;\n",
       "    }\n",
       "\n",
       "    .dataframe tbody tr th {\n",
       "        vertical-align: top;\n",
       "    }\n",
       "\n",
       "    .dataframe thead th {\n",
       "        text-align: right;\n",
       "    }\n",
       "</style>\n",
       "<table border=\"1\" class=\"dataframe\">\n",
       "  <thead>\n",
       "    <tr style=\"text-align: right;\">\n",
       "      <th></th>\n",
       "      <th>Brand</th>\n",
       "      <th>Model</th>\n",
       "      <th>Age</th>\n",
       "      <th>Location</th>\n",
       "      <th>Kilometers_Driven</th>\n",
       "      <th>Fuel_Type</th>\n",
       "      <th>Transmission</th>\n",
       "      <th>Owner_Type</th>\n",
       "      <th>Mileage</th>\n",
       "      <th>Engine</th>\n",
       "      <th>Power</th>\n",
       "      <th>Seats</th>\n",
       "    </tr>\n",
       "  </thead>\n",
       "  <tbody>\n",
       "    <tr>\n",
       "      <th>0</th>\n",
       "      <td>18</td>\n",
       "      <td>1</td>\n",
       "      <td>5</td>\n",
       "      <td>4</td>\n",
       "      <td>40929</td>\n",
       "      <td>0</td>\n",
       "      <td>1</td>\n",
       "      <td>0</td>\n",
       "      <td>32.26</td>\n",
       "      <td>998.0</td>\n",
       "      <td>58.20</td>\n",
       "      <td>4.0</td>\n",
       "    </tr>\n",
       "    <tr>\n",
       "      <th>1</th>\n",
       "      <td>18</td>\n",
       "      <td>1</td>\n",
       "      <td>6</td>\n",
       "      <td>3</td>\n",
       "      <td>54493</td>\n",
       "      <td>4</td>\n",
       "      <td>1</td>\n",
       "      <td>2</td>\n",
       "      <td>24.70</td>\n",
       "      <td>796.0</td>\n",
       "      <td>47.30</td>\n",
       "      <td>5.0</td>\n",
       "    </tr>\n",
       "    <tr>\n",
       "      <th>2</th>\n",
       "      <td>29</td>\n",
       "      <td>1</td>\n",
       "      <td>2</td>\n",
       "      <td>9</td>\n",
       "      <td>34000</td>\n",
       "      <td>1</td>\n",
       "      <td>1</td>\n",
       "      <td>0</td>\n",
       "      <td>13.68</td>\n",
       "      <td>2393.0</td>\n",
       "      <td>147.80</td>\n",
       "      <td>7.0</td>\n",
       "    </tr>\n",
       "    <tr>\n",
       "      <th>3</th>\n",
       "      <td>29</td>\n",
       "      <td>1</td>\n",
       "      <td>7</td>\n",
       "      <td>5</td>\n",
       "      <td>139000</td>\n",
       "      <td>1</td>\n",
       "      <td>1</td>\n",
       "      <td>0</td>\n",
       "      <td>23.59</td>\n",
       "      <td>1364.0</td>\n",
       "      <td>90.00</td>\n",
       "      <td>5.0</td>\n",
       "    </tr>\n",
       "    <tr>\n",
       "      <th>4</th>\n",
       "      <td>11</td>\n",
       "      <td>1</td>\n",
       "      <td>5</td>\n",
       "      <td>9</td>\n",
       "      <td>29000</td>\n",
       "      <td>4</td>\n",
       "      <td>1</td>\n",
       "      <td>0</td>\n",
       "      <td>18.50</td>\n",
       "      <td>1197.0</td>\n",
       "      <td>82.85</td>\n",
       "      <td>5.0</td>\n",
       "    </tr>\n",
       "  </tbody>\n",
       "</table>\n",
       "</div>"
      ],
      "text/plain": [
       "   Brand  Model  Age  Location  Kilometers_Driven  Fuel_Type  Transmission  \\\n",
       "0     18      1    5         4              40929          0             1   \n",
       "1     18      1    6         3              54493          4             1   \n",
       "2     29      1    2         9              34000          1             1   \n",
       "3     29      1    7         5             139000          1             1   \n",
       "4     11      1    5         9              29000          4             1   \n",
       "\n",
       "   Owner_Type  Mileage  Engine   Power  Seats  \n",
       "0           0    32.26   998.0   58.20    4.0  \n",
       "1           2    24.70   796.0   47.30    5.0  \n",
       "2           0    13.68  2393.0  147.80    7.0  \n",
       "3           0    23.59  1364.0   90.00    5.0  \n",
       "4           0    18.50  1197.0   82.85    5.0  "
      ]
     },
     "execution_count": 41,
     "metadata": {},
     "output_type": "execute_result"
    }
   ],
   "source": [
    "#Train\n",
    "X_train_data = train_full_data.loc[:,train_full_data.columns != 'Price']\n",
    "y_train_data = train_full_data['Price']\n",
    "\n",
    "#test\n",
    "X_test_data = test_full_data\n",
    "\n",
    "X_test_data.head()"
   ]
  },
  {
   "cell_type": "code",
   "execution_count": 42,
   "metadata": {},
   "outputs": [],
   "source": [
    "from sklearn.model_selection import train_test_split\n",
    "\n",
    "X_train, X_val, Y_train, Y_val = train_test_split(X_train_data, y_train_data, test_size = 0.2, random_state = 1)"
   ]
  },
  {
   "cell_type": "code",
   "execution_count": 43,
   "metadata": {},
   "outputs": [],
   "source": [
    "from sklearn.metrics import mean_absolute_error\n",
    "from sklearn import metrics\n",
    "# Score Calculation\n",
    "def score(y_pred, y_true):\n",
    "   error = np.square(np.log10(y_pred +1) - np.log10(y_true +1)).mean() ** 0.5\n",
    "   score = 1 - error\n",
    "   return score"
   ]
  },
  {
   "cell_type": "code",
   "execution_count": 44,
   "metadata": {},
   "outputs": [
    {
     "name": "stdout",
     "output_type": "stream",
     "text": [
      "1.4507648879469965\n",
      "\n",
      "\n",
      "  RandomForestRegressor SCORE :  0.9288926275577388\n"
     ]
    }
   ],
   "source": [
    "from sklearn.ensemble import RandomForestRegressor\n",
    "model_rfr = RandomForestRegressor(n_estimators=90 ,random_state=0)\n",
    "model_rfr.fit(X_train,Y_train)\n",
    "y_pred = model_rfr.predict(X_val)\n",
    "print(mean_absolute_error(Y_val,y_pred))\n",
    "#Printing the score for validation sets\n",
    "print(\"\\n\\n  RandomForestRegressor SCORE : \", score(y_pred, Y_val))"
   ]
  },
  {
   "cell_type": "code",
   "execution_count": 45,
   "metadata": {},
   "outputs": [],
   "source": [
    "from sklearn.ensemble import RandomForestRegressor\n",
    "model_rfr = RandomForestRegressor(n_estimators=90 ,random_state=0)\n",
    "model_rfr.fit(X_train_data,y_train_data)\n",
    "y_pred = model_rfr.predict(X_test_data)"
   ]
  },
  {
   "cell_type": "code",
   "execution_count": 46,
   "metadata": {},
   "outputs": [],
   "source": [
    "#Saving the predictions to an excel sheet\n",
    "pd.DataFrame(y_pred, columns = ['Price']).to_excel(\"predictions.xlsx\")"
   ]
  },
  {
   "cell_type": "code",
   "execution_count": null,
   "metadata": {},
   "outputs": [],
   "source": []
  }
 ],
 "metadata": {
  "kernelspec": {
   "display_name": "Python 3",
   "language": "python",
   "name": "python3"
  },
  "language_info": {
   "codemirror_mode": {
    "name": "ipython",
    "version": 3
   },
   "file_extension": ".py",
   "mimetype": "text/x-python",
   "name": "python",
   "nbconvert_exporter": "python",
   "pygments_lexer": "ipython3",
   "version": "3.6.8"
  }
 },
 "nbformat": 4,
 "nbformat_minor": 1
}
